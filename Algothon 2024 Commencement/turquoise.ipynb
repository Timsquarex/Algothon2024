{
 "cells": [
  {
   "cell_type": "code",
   "execution_count": 2,
   "metadata": {},
   "outputs": [],
   "source": [
    "import numpy as np\n",
    "import pandas as pd"
   ]
  },
  {
   "cell_type": "code",
   "execution_count": 3,
   "metadata": {},
   "outputs": [],
   "source": [
    "nInst = 50\n",
    "currentPos = np.zeros(nInst)"
   ]
  },
  {
   "cell_type": "code",
   "execution_count": 4,
   "metadata": {},
   "outputs": [
    {
     "name": "stderr",
     "output_type": "stream",
     "text": [
      "<>:3: SyntaxWarning: invalid escape sequence '\\s'\n",
      "<>:3: SyntaxWarning: invalid escape sequence '\\s'\n",
      "/var/folders/1x/j7cms8w90n71y__h4q0x74180000gn/T/ipykernel_6511/69247726.py:3: SyntaxWarning: invalid escape sequence '\\s'\n",
      "  df = pd.read_csv(fn, sep='\\s+', header=None, index_col=None)\n"
     ]
    }
   ],
   "source": [
    "def loadPrices(fn):\n",
    "    global nt, nInst\n",
    "    df = pd.read_csv(fn, sep='\\s+', header=None, index_col=None)\n",
    "    (nt, nInst) = df.shape\n",
    "    return (df.values).T"
   ]
  },
  {
   "cell_type": "code",
   "execution_count": 9,
   "metadata": {},
   "outputs": [
    {
     "name": "stderr",
     "output_type": "stream",
     "text": [
      "<>:1: SyntaxWarning: invalid escape sequence '\\s'\n",
      "<>:1: SyntaxWarning: invalid escape sequence '\\s'\n",
      "<>:1: SyntaxWarning: invalid escape sequence '\\s'\n",
      "<>:1: SyntaxWarning: invalid escape sequence '\\s'\n",
      "/var/folders/1x/j7cms8w90n71y__h4q0x74180000gn/T/ipykernel_6511/4103695734.py:1: SyntaxWarning: invalid escape sequence '\\s'\n",
      "  price_data = ('prices.txt', sep=='\\s+', header=None, index_col=None)\n",
      "/var/folders/1x/j7cms8w90n71y__h4q0x74180000gn/T/ipykernel_6511/4103695734.py:1: SyntaxWarning: invalid escape sequence '\\s'\n",
      "  price_data = ('prices.txt', sep=='\\s+', header=None, index_col=None)\n"
     ]
    },
    {
     "ename": "SyntaxError",
     "evalue": "invalid syntax. Maybe you meant '==' or ':=' instead of '='? (4103695734.py, line 1)",
     "output_type": "error",
     "traceback": [
      "\u001b[0;36m  Cell \u001b[0;32mIn[9], line 1\u001b[0;36m\u001b[0m\n\u001b[0;31m    price_data = ('prices.txt', sep=='\\s+', header=None, index_col=None)\u001b[0m\n\u001b[0m                                            ^\u001b[0m\n\u001b[0;31mSyntaxError\u001b[0m\u001b[0;31m:\u001b[0m invalid syntax. Maybe you meant '==' or ':=' instead of '='?\n"
     ]
    }
   ],
   "source": [
    "price_data = ('prices.txt', sep='\\s+', header=None, index_col=None)\n",
    "print(price_data)"
   ]
  },
  {
   "cell_type": "code",
   "execution_count": 6,
   "metadata": {},
   "outputs": [
    {
     "ename": "NameError",
     "evalue": "name 'price_data' is not defined",
     "output_type": "error",
     "traceback": [
      "\u001b[0;31m---------------------------------------------------------------------------\u001b[0m",
      "\u001b[0;31mNameError\u001b[0m                                 Traceback (most recent call last)",
      "Cell \u001b[0;32mIn[6], line 7\u001b[0m\n\u001b[1;32m      1\u001b[0m \u001b[38;5;66;03m#Prices Rate of Change\u001b[39;00m\n\u001b[1;32m      2\u001b[0m \u001b[38;5;66;03m#p = \"Closing Price of most recent period\"\u001b[39;00m\n\u001b[1;32m      3\u001b[0m \u001b[38;5;66;03m#n = \"Closing Price n periods beforre most recent period\"\u001b[39;00m\n\u001b[1;32m      4\u001b[0m \n\u001b[1;32m      5\u001b[0m \u001b[38;5;66;03m#ROC = (p/n)*100\u001b[39;00m\n\u001b[0;32m----> 7\u001b[0m p \u001b[38;5;241m=\u001b[39m \u001b[43mprice_data\u001b[49m\u001b[38;5;241m.\u001b[39mloc[:,\u001b[38;5;124m'\u001b[39m\u001b[38;5;124m0\u001b[39m\u001b[38;5;124m'\u001b[39m:\u001b[38;5;124m'\u001b[39m\u001b[38;5;124m49\u001b[39m\u001b[38;5;124m'\u001b[39m]\n\u001b[1;32m      8\u001b[0m n \u001b[38;5;241m=\u001b[39m price_data\u001b[38;5;241m.\u001b[39mloc[:,\u001b[38;5;124m'\u001b[39m\u001b[38;5;124m0\u001b[39m\u001b[38;5;124m'\u001b[39m:\u001b[38;5;124m'\u001b[39m\u001b[38;5;124m49\u001b[39m\u001b[38;5;124m'\u001b[39m]\u001b[38;5;241m.\u001b[39mshift(periods\u001b[38;5;241m=\u001b[39m\u001b[38;5;241m9\u001b[39m)\n\u001b[1;32m      9\u001b[0m Instroc \u001b[38;5;241m=\u001b[39m ((p\u001b[38;5;241m-\u001b[39mn)\u001b[38;5;241m/\u001b[39mn) \u001b[38;5;241m*\u001b[39m \u001b[38;5;241m100\u001b[39m\n",
      "\u001b[0;31mNameError\u001b[0m: name 'price_data' is not defined"
     ]
    }
   ],
   "source": [
    "#Prices Rate of Change\n",
    "#p = \"Closing Price of most recent period\"\n",
    "#n = \"Closing Price n periods beforre most recent period\"\n",
    "\n",
    "#ROC = (p/n)*100\n",
    "\n",
    "p = price_data.loc[:,'0':'49']\n",
    "n = price_data.loc[:,'0':'49'].shift(periods=9)\n",
    "Instroc = ((p-n)/n) * 100\n",
    "roc = Instroc.dropna()\n",
    "print(roc)\n"
   ]
  },
  {
   "cell_type": "code",
   "execution_count": null,
   "metadata": {},
   "outputs": [
    {
     "ename": "NameError",
     "evalue": "name 'roc' is not defined",
     "output_type": "error",
     "traceback": [
      "\u001b[0;31m---------------------------------------------------------------------------\u001b[0m",
      "\u001b[0;31mNameError\u001b[0m                                 Traceback (most recent call last)",
      "Cell \u001b[0;32mIn[1], line 4\u001b[0m\n\u001b[1;32m      1\u001b[0m \u001b[38;5;66;03m#roc3 = \"ROC 3 days before mnost recent period\"\u001b[39;00m\n\u001b[1;32m      2\u001b[0m \u001b[38;5;66;03m#rocn = \"most recent ROC\"\u001b[39;00m\n\u001b[0;32m----> 4\u001b[0m roc3 \u001b[38;5;241m=\u001b[39m \u001b[43mroc\u001b[49m\u001b[38;5;241m.\u001b[39miloc[:,\u001b[38;5;241m0\u001b[39m:\u001b[38;5;241m49\u001b[39m]\u001b[38;5;241m.\u001b[39mshift(periods\u001b[38;5;241m=\u001b[39m\u001b[38;5;241m-\u001b[39m\u001b[38;5;241m3\u001b[39m)\n\u001b[1;32m      5\u001b[0m rocn \u001b[38;5;241m=\u001b[39m roc\u001b[38;5;241m.\u001b[39miloc[:,\u001b[38;5;241m0\u001b[39m:\u001b[38;5;241m49\u001b[39m]\n\u001b[1;32m      7\u001b[0m roc3\n",
      "\u001b[0;31mNameError\u001b[0m: name 'roc' is not defined"
     ]
    }
   ],
   "source": [
    "#roc3 = \"ROC 3 days before mnost recent period\"\n",
    "#rocn = \"most recent ROC\"\n",
    "\n",
    "roc3 = roc.iloc[:,0:49].shift(periods=-3)\n",
    "rocn = roc.iloc[:,0:49]\n",
    "\n",
    "roc3"
   ]
  },
  {
   "cell_type": "code",
   "execution_count": null,
   "metadata": {},
   "outputs": [
    {
     "name": "stdout",
     "output_type": "stream",
     "text": [
      "           0         1         2         3         4         5         6   \\\n",
      "9    1.560178 -0.669923 -0.103178  0.000000  0.460653 -4.000000 -0.526870   \n",
      "10   0.890208 -1.178918 -0.206101 -0.158416  0.518632 -4.864865 -0.263852   \n",
      "11   2.152932 -1.990325 -0.165017 -0.434611  1.776062 -3.049257 -0.474183   \n",
      "12   1.921656 -2.509999  0.020653 -0.472906  1.897019 -2.764613 -0.369198   \n",
      "13   0.293255 -1.125156  0.061983 -0.454097  1.423898 -2.694136  0.000000   \n",
      "..        ...       ...       ...       ...       ...       ...       ...   \n",
      "495  3.320755  0.415122  0.647389  0.660502 -0.794852 -1.756098  0.725446   \n",
      "496  2.567976  0.623793  0.625539  0.594190  0.458628 -2.327837  0.278707   \n",
      "497  2.316891  1.541916  0.712281  0.131579 -0.209564 -2.812803  0.278242   \n",
      "498  1.574213  1.349123  0.732917  0.307828 -0.324056 -2.339181  0.445682   \n",
      "499 -1.179941  0.868914  0.689655  0.197195 -0.323995 -0.981354  0.055525   \n",
      "\n",
      "           7         8         9   ...        39        40        41  \\\n",
      "9   -0.419199  0.057562  0.960769  ...  0.262945  0.674020  0.448350   \n",
      "10  -1.003344 -0.458913  0.440617  ...  0.121188  1.168512  0.911202   \n",
      "11  -1.333889 -0.330460  1.216298  ...  0.202061  1.600985 -0.585729   \n",
      "12  -3.795650 -0.230083 -0.060399  ...  0.201979  1.779687 -1.100852   \n",
      "13  -3.109656 -0.703215 -0.525677  ...  0.161453  1.899510 -1.189631   \n",
      "..        ...       ...       ...  ...       ...       ...       ...   \n",
      "495 -3.256743  0.480559 -0.017794  ...  0.000000 -0.324359  1.485745   \n",
      "496 -4.008864  0.392613 -0.142653  ... -0.061652 -0.097624  2.260265   \n",
      "497 -5.694165  0.598191  0.537731  ...  0.082305  0.359595  0.872366   \n",
      "498 -6.343737  0.788436  0.874688  ...  0.123482  0.261352  1.779026   \n",
      "499 -5.239551  0.788091  3.080781  ...  0.144092  0.522705  1.621984   \n",
      "\n",
      "           42        43        44        45        46        47        48  \n",
      "9   -2.489627  1.459111  3.486788 -1.083238  2.412325  0.607399 -0.591837  \n",
      "10  -2.562327 -0.183916  3.493450 -1.236211  3.699187  0.275710 -0.286650  \n",
      "11  -2.689655  1.642954  2.981838 -0.704896  3.172999  0.109920 -0.391269  \n",
      "12  -2.361111  2.639196  3.410937 -0.324427  4.087414 -0.027465 -0.795918  \n",
      "13  -1.671309  1.779359  3.483662 -0.419527  2.450291 -0.192202  0.914001  \n",
      "..        ...       ...       ...       ...       ...       ...       ...  \n",
      "495 -5.258467  0.871424  2.432180 -0.823691 -2.602906  0.029647  1.226810  \n",
      "496 -4.054054  0.098135  1.526004 -0.824176 -1.867031  0.416171 -0.594884  \n",
      "497 -3.065825 -0.539657  1.266214 -1.176009 -1.847610 -0.385414  0.566150  \n",
      "498 -2.820746 -1.348278  0.030826 -1.100845 -2.871106  0.475766 -0.445368  \n",
      "499 -2.734731 -0.409635 -0.797546 -1.258604 -1.249807  1.257485 -1.183432  \n",
      "\n",
      "[491 rows x 49 columns]\n"
     ]
    }
   ],
   "source": [
    "print(rocn)"
   ]
  },
  {
   "cell_type": "code",
   "execution_count": null,
   "metadata": {},
   "outputs": [],
   "source": [
    "def getMyPosition(prcSoFar):\n",
    "    global currentPos\n",
    "    \n",
    "    every_day_trade_limit = 0.03 \n",
    "    for i in range(50):\n",
    "        if roc3.all() > rocn.all():\n",
    "            currentPos[i] = -10000 * every_day_trade_limit\n",
    "        if roc3.all() < rocn.all():\n",
    "            currentPos[i] = 10000 * every_day_trade_limit\n",
    "\n",
    "    return(currentPos)\n"
   ]
  },
  {
   "cell_type": "code",
   "execution_count": null,
   "metadata": {},
   "outputs": [],
   "source": []
  }
 ],
 "metadata": {
  "kernelspec": {
   "display_name": "Python 3",
   "language": "python",
   "name": "python3"
  },
  "language_info": {
   "codemirror_mode": {
    "name": "ipython",
    "version": 3
   },
   "file_extension": ".py",
   "mimetype": "text/x-python",
   "name": "python",
   "nbconvert_exporter": "python",
   "pygments_lexer": "ipython3",
   "version": "3.12.0"
  }
 },
 "nbformat": 4,
 "nbformat_minor": 2
}
